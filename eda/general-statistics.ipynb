{
 "cells": [
  {
   "cell_type": "markdown",
   "metadata": {},
   "source": [
    "## General Statistics"
   ]
  },
  {
   "cell_type": "markdown",
   "metadata": {},
   "source": [
    "Here we look at some of the general statistics around greyhound racing as a whole."
   ]
  },
  {
   "cell_type": "markdown",
   "metadata": {},
   "source": [
    "----"
   ]
  },
  {
   "cell_type": "markdown",
   "metadata": {},
   "source": [
    "### 0. Read cleansed data"
   ]
  },
  {
   "cell_type": "code",
   "execution_count": 1,
   "metadata": {},
   "outputs": [
    {
     "data": {
      "text/html": [
       "<div>\n",
       "<style scoped>\n",
       "    .dataframe tbody tr th:only-of-type {\n",
       "        vertical-align: middle;\n",
       "    }\n",
       "\n",
       "    .dataframe tbody tr th {\n",
       "        vertical-align: top;\n",
       "    }\n",
       "\n",
       "    .dataframe thead th {\n",
       "        text-align: right;\n",
       "    }\n",
       "</style>\n",
       "<table border=\"1\" class=\"dataframe\">\n",
       "  <thead>\n",
       "    <tr style=\"text-align: right;\">\n",
       "      <th></th>\n",
       "      <th>FasttrackDogId</th>\n",
       "      <th>Place</th>\n",
       "      <th>DogName</th>\n",
       "      <th>Box</th>\n",
       "      <th>Rug</th>\n",
       "      <th>Weight</th>\n",
       "      <th>StartPrice</th>\n",
       "      <th>Margin1</th>\n",
       "      <th>Margin2</th>\n",
       "      <th>PIR</th>\n",
       "      <th>Checks</th>\n",
       "      <th>SplitMargin</th>\n",
       "      <th>RunTime</th>\n",
       "      <th>Prizemoney</th>\n",
       "      <th>FasttrackRaceId</th>\n",
       "      <th>TrainerId</th>\n",
       "      <th>TrainerName</th>\n",
       "      <th>Distance</th>\n",
       "      <th>RaceGrade</th>\n",
       "      <th>Track</th>\n",
       "      <th>RaceNum</th>\n",
       "      <th>TrackDist</th>\n",
       "      <th>RaceDate</th>\n",
       "      <th>FieldSize</th>\n",
       "    </tr>\n",
       "  </thead>\n",
       "  <tbody>\n",
       "    <tr>\n",
       "      <th>0</th>\n",
       "      <td>157500927</td>\n",
       "      <td>1</td>\n",
       "      <td>RAINE ALLEN</td>\n",
       "      <td>1</td>\n",
       "      <td>1</td>\n",
       "      <td>27.4</td>\n",
       "      <td>2.4</td>\n",
       "      <td>2.30</td>\n",
       "      <td>NaN</td>\n",
       "      <td>Q/111</td>\n",
       "      <td>0</td>\n",
       "      <td>6.68</td>\n",
       "      <td>28.66</td>\n",
       "      <td>0.0</td>\n",
       "      <td>335811282</td>\n",
       "      <td>7683</td>\n",
       "      <td>C GRENFELL</td>\n",
       "      <td>500.0</td>\n",
       "      <td>Restricted Win</td>\n",
       "      <td>Bendigo</td>\n",
       "      <td>1.0</td>\n",
       "      <td>Bendigo500</td>\n",
       "      <td>2018-07-01</td>\n",
       "      <td>6</td>\n",
       "    </tr>\n",
       "    <tr>\n",
       "      <th>1</th>\n",
       "      <td>1820620018</td>\n",
       "      <td>2</td>\n",
       "      <td>SURF A LOT</td>\n",
       "      <td>2</td>\n",
       "      <td>2</td>\n",
       "      <td>32.8</td>\n",
       "      <td>6.3</td>\n",
       "      <td>2.30</td>\n",
       "      <td>2.30</td>\n",
       "      <td>M/332</td>\n",
       "      <td>0</td>\n",
       "      <td>7.01</td>\n",
       "      <td>28.82</td>\n",
       "      <td>0.0</td>\n",
       "      <td>335811282</td>\n",
       "      <td>137227</td>\n",
       "      <td>C TYLEY</td>\n",
       "      <td>500.0</td>\n",
       "      <td>Restricted Win</td>\n",
       "      <td>Bendigo</td>\n",
       "      <td>1.0</td>\n",
       "      <td>Bendigo500</td>\n",
       "      <td>2018-07-01</td>\n",
       "      <td>6</td>\n",
       "    </tr>\n",
       "    <tr>\n",
       "      <th>2</th>\n",
       "      <td>1950680026</td>\n",
       "      <td>3</td>\n",
       "      <td>PINGIN' BEE</td>\n",
       "      <td>6</td>\n",
       "      <td>6</td>\n",
       "      <td>25.5</td>\n",
       "      <td>9.3</td>\n",
       "      <td>3.84</td>\n",
       "      <td>1.54</td>\n",
       "      <td>S/443</td>\n",
       "      <td>0</td>\n",
       "      <td>7.24</td>\n",
       "      <td>28.93</td>\n",
       "      <td>0.0</td>\n",
       "      <td>335811282</td>\n",
       "      <td>132763</td>\n",
       "      <td>P DAPIRAN</td>\n",
       "      <td>500.0</td>\n",
       "      <td>Restricted Win</td>\n",
       "      <td>Bendigo</td>\n",
       "      <td>1.0</td>\n",
       "      <td>Bendigo500</td>\n",
       "      <td>2018-07-01</td>\n",
       "      <td>6</td>\n",
       "    </tr>\n",
       "    <tr>\n",
       "      <th>3</th>\n",
       "      <td>1524380048</td>\n",
       "      <td>4</td>\n",
       "      <td>LUCAS THE GREAT</td>\n",
       "      <td>7</td>\n",
       "      <td>7</td>\n",
       "      <td>32.2</td>\n",
       "      <td>9.1</td>\n",
       "      <td>5.27</td>\n",
       "      <td>1.43</td>\n",
       "      <td>M/655</td>\n",
       "      <td>5</td>\n",
       "      <td>7.31</td>\n",
       "      <td>29.03</td>\n",
       "      <td>0.0</td>\n",
       "      <td>335811282</td>\n",
       "      <td>116605</td>\n",
       "      <td>E HAMILTON</td>\n",
       "      <td>500.0</td>\n",
       "      <td>Restricted Win</td>\n",
       "      <td>Bendigo</td>\n",
       "      <td>1.0</td>\n",
       "      <td>Bendigo500</td>\n",
       "      <td>2018-07-01</td>\n",
       "      <td>6</td>\n",
       "    </tr>\n",
       "    <tr>\n",
       "      <th>4</th>\n",
       "      <td>124225458</td>\n",
       "      <td>5</td>\n",
       "      <td>QUAVO</td>\n",
       "      <td>4</td>\n",
       "      <td>4</td>\n",
       "      <td>28.9</td>\n",
       "      <td>3.4</td>\n",
       "      <td>5.56</td>\n",
       "      <td>0.29</td>\n",
       "      <td>M/766</td>\n",
       "      <td>8</td>\n",
       "      <td>7.38</td>\n",
       "      <td>29.05</td>\n",
       "      <td>0.0</td>\n",
       "      <td>335811282</td>\n",
       "      <td>132763</td>\n",
       "      <td>P DAPIRAN</td>\n",
       "      <td>500.0</td>\n",
       "      <td>Restricted Win</td>\n",
       "      <td>Bendigo</td>\n",
       "      <td>1.0</td>\n",
       "      <td>Bendigo500</td>\n",
       "      <td>2018-07-01</td>\n",
       "      <td>6</td>\n",
       "    </tr>\n",
       "  </tbody>\n",
       "</table>\n",
       "</div>"
      ],
      "text/plain": [
       "   FasttrackDogId  Place          DogName  Box  Rug  Weight  StartPrice  \\\n",
       "0       157500927      1      RAINE ALLEN    1    1    27.4         2.4   \n",
       "1      1820620018      2       SURF A LOT    2    2    32.8         6.3   \n",
       "2      1950680026      3      PINGIN' BEE    6    6    25.5         9.3   \n",
       "3      1524380048      4  LUCAS THE GREAT    7    7    32.2         9.1   \n",
       "4       124225458      5            QUAVO    4    4    28.9         3.4   \n",
       "\n",
       "   Margin1  Margin2    PIR  Checks  SplitMargin  RunTime  Prizemoney  \\\n",
       "0     2.30      NaN  Q/111       0         6.68    28.66         0.0   \n",
       "1     2.30     2.30  M/332       0         7.01    28.82         0.0   \n",
       "2     3.84     1.54  S/443       0         7.24    28.93         0.0   \n",
       "3     5.27     1.43  M/655       5         7.31    29.03         0.0   \n",
       "4     5.56     0.29  M/766       8         7.38    29.05         0.0   \n",
       "\n",
       "   FasttrackRaceId  TrainerId TrainerName  Distance       RaceGrade    Track  \\\n",
       "0        335811282       7683  C GRENFELL     500.0  Restricted Win  Bendigo   \n",
       "1        335811282     137227     C TYLEY     500.0  Restricted Win  Bendigo   \n",
       "2        335811282     132763   P DAPIRAN     500.0  Restricted Win  Bendigo   \n",
       "3        335811282     116605  E HAMILTON     500.0  Restricted Win  Bendigo   \n",
       "4        335811282     132763   P DAPIRAN     500.0  Restricted Win  Bendigo   \n",
       "\n",
       "   RaceNum   TrackDist   RaceDate  FieldSize  \n",
       "0      1.0  Bendigo500 2018-07-01          6  \n",
       "1      1.0  Bendigo500 2018-07-01          6  \n",
       "2      1.0  Bendigo500 2018-07-01          6  \n",
       "3      1.0  Bendigo500 2018-07-01          6  \n",
       "4      1.0  Bendigo500 2018-07-01          6  "
      ]
     },
     "metadata": {},
     "output_type": "display_data"
    }
   ],
   "source": [
    "import os\n",
    "import decouple\n",
    "import sys\n",
    "import pandas as pd\n",
    "import numpy as np\n",
    "import seaborn as sns\n",
    "import matplotlib.pyplot as plt\n",
    "import scipy.stats as stats\n",
    "import matplotlib.ticker as plticker\n",
    "\n",
    "from scipy.stats import zscore\n",
    "\n",
    "config = decouple.AutoConfig(' ')\n",
    "os.chdir(config('ROOT_DIRECTORY'))\n",
    "sys.path.insert(0, '')\n",
    "\n",
    "pd.set_option('display.max_columns', None)\n",
    "\n",
    "# Read in data\n",
    "df_raw = pd.read_csv('./data/clean/dog_results.csv')\n",
    "df_raw['RaceDate'] = pd.to_datetime(df_raw['RaceDate'], format='%Y-%m-%d')\n",
    "\n",
    "display(df_raw.head())"
   ]
  },
  {
   "cell_type": "markdown",
   "metadata": {},
   "source": [
    "### 1. Number of Races that a Greyhound or Trainer participates"
   ]
  },
  {
   "cell_type": "markdown",
   "metadata": {},
   "source": [
    "Here we want to look at the number of races a greyhound or trainer typically participates in. This will assist with gauging how much information we should typically have on hand about a greyhound or trainer."
   ]
  },
  {
   "cell_type": "markdown",
   "metadata": {},
   "source": [
    "#### 1.1. Greyhounds"
   ]
  },
  {
   "cell_type": "markdown",
   "metadata": {},
   "source": [
    "From the data below, we can expect 50% of greyhounds to particpate in no more than 20 races, with 25% of greyhounds participating in no more than 8 races. Hence, if we want to create a predictive model for a large proportion of races, we would be required to predict a greyhounds performance with less than 8 races of experience."
   ]
  },
  {
   "cell_type": "code",
   "execution_count": 2,
   "metadata": {},
   "outputs": [
    {
     "data": {
      "text/plain": [
       "count    28771.000000\n",
       "mean        27.214973\n",
       "std         24.298512\n",
       "min          1.000000\n",
       "25%          8.000000\n",
       "50%         20.000000\n",
       "75%         41.000000\n",
       "max        220.000000\n",
       "Name: NumberOfRaces, dtype: float64"
      ]
     },
     "metadata": {},
     "output_type": "display_data"
    },
    {
     "data": {
      "image/png": "[encoded data removed]",
      "text/plain": [
       "<Figure size 648x432 with 1 Axes>"
      ]
     },
     "metadata": {},
     "output_type": "display_data"
    }
   ],
   "source": [
    "# Copy dataframe\n",
    "df = df_raw.copy()\n",
    "\n",
    "# Groupby each greyhound, and count the number of distinct races it took part in\n",
    "df = df.groupby('FasttrackDogId', as_index=False)['FasttrackRaceId'].nunique()\n",
    "df = df.rename(columns={'FasttrackRaceId': 'NumberOfRaces'})\n",
    "\n",
    "# Plot\n",
    "sns.set_theme()\n",
    "fig, ax = plt.subplots(figsize=(9, 6))\n",
    "plt.rc('xtick',labelsize=15)\n",
    "plt.rcParams[\"axes.labelsize\"] = 15\n",
    "plt.rc('ytick',labelsize=15)\n",
    "\n",
    "sns.kdeplot(data=df, x='NumberOfRaces', cut=0)\n",
    "\n",
    "display(df.NumberOfRaces.describe())"
   ]
  },
  {
   "cell_type": "markdown",
   "metadata": {},
   "source": [
    "#### 1.2. Trainers"
   ]
  },
  {
   "cell_type": "markdown",
   "metadata": {},
   "source": [
    "From the data below, we can expect 50% of trainers to participate in no more than 108 races, with 25% of trainers participating in no more than 30 races. Hence, it must be typical for trainers to have owned more than one greyhound (compared to the above data), and hence we may be able to predict a greyhound's performance based on another greyhound's performance that was trained by the same trainer. Is there any other way we can use trainer data?"
   ]
  },
  {
   "cell_type": "code",
   "execution_count": 3,
   "metadata": {},
   "outputs": [
    {
     "data": {
      "text/plain": [
       "count    3076.000000\n",
       "mean      232.549090\n",
       "std       371.818994\n",
       "min         1.000000\n",
       "25%        31.000000\n",
       "50%       109.000000\n",
       "75%       277.000000\n",
       "max      4452.000000\n",
       "Name: NumberOfRaces, dtype: float64"
      ]
     },
     "metadata": {},
     "output_type": "display_data"
    },
    {
     "data": {
      "image/png": "[encoded data removed]",
      "text/plain": [
       "<Figure size 648x432 with 1 Axes>"
      ]
     },
     "metadata": {},
     "output_type": "display_data"
    }
   ],
   "source": [
    "# Copy dataframe\n",
    "df = df_raw.copy()\n",
    "\n",
    "# Groupby trainer, and count the number of races a trainer participates in\n",
    "df = df.groupby('TrainerId', as_index=False)['FasttrackRaceId'].nunique()\n",
    "df = df.rename(columns={'FasttrackRaceId': 'NumberOfRaces'})\n",
    "\n",
    "# Plot\n",
    "sns.set_theme()\n",
    "fig, ax = plt.subplots(figsize=(9, 6))\n",
    "plt.rc('xtick',labelsize=15)\n",
    "plt.rcParams[\"axes.labelsize\"] = 15\n",
    "plt.rc('ytick',labelsize=15)\n",
    "\n",
    "sns.kdeplot(data=df, x='NumberOfRaces', cut=0)\n",
    "\n",
    "display(df.NumberOfRaces.describe())"
   ]
  },
  {
   "cell_type": "markdown",
   "metadata": {},
   "source": [
    "### 2. Lifetime of Greyhounds and Trainers"
   ]
  },
  {
   "cell_type": "markdown",
   "metadata": {},
   "source": [
    "Here we want to look at the typical lifetime of greyhounds and their trainers (time between their first and last race). This information may be of use in determining whether we want to take the perfomance of a trainer or greyhound over the last N races or N units of time (or both?)."
   ]
  },
  {
   "cell_type": "markdown",
   "metadata": {},
   "source": [
    "#### 2.1. Greyhounds"
   ]
  },
  {
   "cell_type": "markdown",
   "metadata": {},
   "source": [
    "From the below, 50% of greyhounds have a lifetime of no more than 265 days (approximately 9 months), with greyhounds racing for approximately 316 days on average (approximately 11 months). With some greyhounds racing for up to nearly 4 years (at least, that's where our data stops)."
   ]
  },
  {
   "cell_type": "code",
   "execution_count": 4,
   "metadata": {},
   "outputs": [
    {
     "data": {
      "text/plain": [
       "count    28771.000000\n",
       "mean       318.964548\n",
       "std        261.120776\n",
       "min          0.000000\n",
       "25%         95.000000\n",
       "50%        266.000000\n",
       "75%        492.000000\n",
       "max       1279.000000\n",
       "Name: Lifetime, dtype: float64"
      ]
     },
     "metadata": {},
     "output_type": "display_data"
    },
    {
     "data": {
      "image/png": "[encoded data removed]",
      "text/plain": [
       "<Figure size 648x432 with 1 Axes>"
      ]
     },
     "metadata": {},
     "output_type": "display_data"
    }
   ],
   "source": [
    "# Copy dataframe\n",
    "df = df_raw.copy()\n",
    "\n",
    "# Groupby greyhound, and take the difference in days between first and last race\n",
    "df = df.groupby('FasttrackDogId', as_index=False)['RaceDate'].apply(lambda x: (max(x) - min(x)).days)\n",
    "df = df.rename(columns={'RaceDate': 'Lifetime'})\n",
    "\n",
    "# Plot\n",
    "sns.set_theme()\n",
    "fig, ax = plt.subplots(figsize=(9, 6))\n",
    "plt.rc('xtick',labelsize=15)\n",
    "plt.rcParams[\"axes.labelsize\"] = 15\n",
    "plt.rc('ytick',labelsize=15)\n",
    "\n",
    "sns.kdeplot(data=df, x='Lifetime', cut=0)\n",
    "\n",
    "display(df.Lifetime.describe())"
   ]
  },
  {
   "cell_type": "markdown",
   "metadata": {},
   "source": [
    "#### 2.2. Trainers"
   ]
  },
  {
   "cell_type": "markdown",
   "metadata": {},
   "source": [
    "Interestingly, trainers are competing for a relatively long period of time (compared to the lifetime of a racing greyhound). The average trainer competes for 826 days (nearly 3 years), with 50% of trainers competing for at least 1040 days. These statistics are probably a lower estimate, since our data is limited to approximately 4 years. "
   ]
  },
  {
   "cell_type": "code",
   "execution_count": 5,
   "metadata": {},
   "outputs": [
    {
     "data": {
      "text/plain": [
       "count    3076.000000\n",
       "mean      844.448635\n",
       "std       464.173348\n",
       "min         0.000000\n",
       "25%       406.750000\n",
       "50%      1055.000000\n",
       "75%      1267.250000\n",
       "max      1279.000000\n",
       "Name: Lifetime, dtype: float64"
      ]
     },
     "metadata": {},
     "output_type": "display_data"
    },
    {
     "data": {
      "image/png": "[encoded data removed]",
      "text/plain": [
       "<Figure size 648x432 with 1 Axes>"
      ]
     },
     "metadata": {},
     "output_type": "display_data"
    }
   ],
   "source": [
    "# Copy dataframe\n",
    "df = df_raw.copy()\n",
    "\n",
    "# Groupby greyhound, and take the difference in days between first and last race\n",
    "df = df.groupby('TrainerId', as_index=False)['RaceDate'].apply(lambda x: (max(x) - min(x)).days)\n",
    "df = df.rename(columns={'RaceDate': 'Lifetime'})\n",
    "\n",
    "# Plot\n",
    "sns.set_theme()\n",
    "fig, ax = plt.subplots(figsize=(9, 6))\n",
    "plt.rc('xtick',labelsize=15)\n",
    "plt.rcParams[\"axes.labelsize\"] = 15\n",
    "plt.rc('ytick',labelsize=15)\n",
    "\n",
    "sns.kdeplot(data=df, x='Lifetime', cut=0)\n",
    "\n",
    "display(df.Lifetime.describe())"
   ]
  },
  {
   "cell_type": "markdown",
   "metadata": {},
   "source": [
    "### 3. Time between races for Greyhounds"
   ]
  },
  {
   "cell_type": "markdown",
   "metadata": {},
   "source": [
    "From below, it appears to be pretty typical for greyhounds to have a week rest between races (50% of break lengths are between 6 and 10 days, inclusive). Although, it does appear that some greyhounds are rushed into their next race somewhat frequently (less than 6 days)."
   ]
  },
  {
   "cell_type": "code",
   "execution_count": 6,
   "metadata": {},
   "outputs": [
    {
     "data": {
      "text/plain": [
       "count    754231.000000\n",
       "mean         12.167266\n",
       "std          21.048544\n",
       "min           1.000000\n",
       "25%           6.000000\n",
       "50%           7.000000\n",
       "75%          10.000000\n",
       "max        1096.000000\n",
       "Name: DaysBetweenRaces, dtype: float64"
      ]
     },
     "metadata": {},
     "output_type": "display_data"
    },
    {
     "data": {
      "text/plain": [
       "<AxesSubplot:xlabel='DaysBetweenRaces', ylabel='Count'>"
      ]
     },
     "execution_count": 6,
     "metadata": {},
     "output_type": "execute_result"
    },
    {
     "data": {
      "image/png": "[encoded data removed]",
      "text/plain": [
       "<Figure size 648x432 with 1 Axes>"
      ]
     },
     "metadata": {},
     "output_type": "display_data"
    }
   ],
   "source": [
    "# Copy dataframe\n",
    "df = df_raw.copy()\n",
    "\n",
    "# Groupby greyhound and take the difference in days between races\n",
    "df = df.sort_values(by=['FasttrackDogId', 'RaceDate'], ascending=True)\n",
    "df = df.groupby('FasttrackDogId', as_index=False)['RaceDate'].diff()\n",
    "df['RaceDate'] = df['RaceDate'].dt.days\n",
    "df = df.rename(columns={'RaceDate': 'DaysBetweenRaces'})\n",
    "\n",
    "# Drop NaN's (first race)\n",
    "df = df.dropna()\n",
    "\n",
    "display(df.DaysBetweenRaces.describe())\n",
    "\n",
    "# Plot (between 0 and 30 days, ignore large outliers)\n",
    "df = df[df['DaysBetweenRaces'] <= 30]\n",
    "sns.set_theme()\n",
    "fig, ax = plt.subplots(figsize=(9, 6))\n",
    "plt.rc('xtick',labelsize=15)\n",
    "plt.rcParams[\"axes.labelsize\"] = 15\n",
    "plt.rc('ytick',labelsize=15)\n",
    "plt.xlim(0,30)\n",
    "\n",
    "sns.histplot(data=df, x='DaysBetweenRaces')"
   ]
  },
  {
   "cell_type": "markdown",
   "metadata": {},
   "source": [
    "### 4. Number of Greyhounds per Trainer over Lifetime of Trainer"
   ]
  },
  {
   "cell_type": "markdown",
   "metadata": {},
   "source": [
    "From the data below, we see that it's very common for trainers to compete with more than one greyhound over their lifetime. With 50% of trainers having competed with at least 8 distinct greyhounds, with 75% of trainers having competed with at least 3 distinct greyhounds over their lifetime."
   ]
  },
  {
   "cell_type": "code",
   "execution_count": 7,
   "metadata": {},
   "outputs": [
    {
     "data": {
      "text/plain": [
       "count    3076.000000\n",
       "mean       14.763979\n",
       "std        22.908007\n",
       "min         1.000000\n",
       "25%         3.000000\n",
       "50%         8.000000\n",
       "75%        17.000000\n",
       "max       478.000000\n",
       "Name: NumberOfGreyhounds, dtype: float64"
      ]
     },
     "metadata": {},
     "output_type": "display_data"
    },
    {
     "data": {
      "image/png": "[encoded data removed]",
      "text/plain": [
       "<Figure size 648x432 with 1 Axes>"
      ]
     },
     "metadata": {},
     "output_type": "display_data"
    }
   ],
   "source": [
    "# Copy dataframe\n",
    "df = df_raw.copy()\n",
    "\n",
    "# Groupby trainer id and count the number of distinct greyhounds\n",
    "df = df.groupby('TrainerId', as_index=False)['FasttrackDogId'].nunique()\n",
    "df = df.rename(columns={'FasttrackDogId': 'NumberOfGreyhounds'})\n",
    "\n",
    "# Plot\n",
    "sns.set_theme()\n",
    "fig, ax = plt.subplots(figsize=(9, 6))\n",
    "plt.rc('xtick',labelsize=15)\n",
    "plt.rcParams[\"axes.labelsize\"] = 15\n",
    "plt.rc('ytick',labelsize=15)\n",
    "\n",
    "sns.kdeplot(data=df, x='NumberOfGreyhounds', cut=0)\n",
    "\n",
    "display(df.NumberOfGreyhounds.describe())"
   ]
  },
  {
   "cell_type": "markdown",
   "metadata": {},
   "source": [
    "### 5. Number of Distinct Tracks for Greyhounds"
   ]
  },
  {
   "cell_type": "markdown",
   "metadata": {},
   "source": [
    "From below, we see that it's fairly common for greyhounds to only race at a small number of tracks, with 50% of greyhounds racing at no more than 3 distinct tracks. Although, they may also race at different distances at these tracks."
   ]
  },
  {
   "cell_type": "code",
   "execution_count": 8,
   "metadata": {},
   "outputs": [
    {
     "data": {
      "text/plain": [
       "count    28771.000000\n",
       "mean         3.707483\n",
       "std          2.586079\n",
       "min          1.000000\n",
       "25%          2.000000\n",
       "50%          3.000000\n",
       "75%          5.000000\n",
       "max         17.000000\n",
       "Name: NumberOfTracks, dtype: float64"
      ]
     },
     "metadata": {},
     "output_type": "display_data"
    },
    {
     "data": {
      "image/png": "[encoded data removed]",
      "text/plain": [
       "<Figure size 648x432 with 1 Axes>"
      ]
     },
     "metadata": {},
     "output_type": "display_data"
    }
   ],
   "source": [
    "# Copy dataframe\n",
    "df = df_raw.copy()\n",
    "\n",
    "# Count the number of distinct venues for each greyhound\n",
    "df = df.groupby('FasttrackDogId', as_index=False)['Track'].nunique()\n",
    "df = df.rename(columns={'Track': 'NumberOfTracks'})\n",
    "\n",
    "# Plot\n",
    "sns.set_theme()\n",
    "fig, ax = plt.subplots(figsize=(9, 6))\n",
    "plt.rc('xtick',labelsize=15)\n",
    "plt.rcParams[\"axes.labelsize\"] = 15\n",
    "plt.rc('ytick',labelsize=15)\n",
    "\n",
    "loc = plticker.MultipleLocator(base=1.0)\n",
    "ax.xaxis.set_major_locator(loc)\n",
    "ax = sns.histplot(data=df, x='NumberOfTracks')\n",
    "\n",
    "display(df.NumberOfTracks.describe())"
   ]
  },
  {
   "cell_type": "markdown",
   "metadata": {},
   "source": [
    "### 6. Range of Distances for Greyhounds"
   ]
  },
  {
   "cell_type": "markdown",
   "metadata": {},
   "source": [
    "From below, it appears that greyhounds compete at relatively similar distances each race (50% of greyhounds stick to a distances in a 130m range), with 75% of greyhounds limiting this range to no more than 200m. There appears to be a number of couple of distinct peaks in the plot below, I'm speculating that this is due to 'standardized' distances across tracks (i.e. the distances raced at distinct tracks aren't arbitrarily chosen between 0 and X meters)."
   ]
  },
  {
   "cell_type": "code",
   "execution_count": 9,
   "metadata": {},
   "outputs": [
    {
     "data": {
      "text/plain": [
       "count    28771.000000\n",
       "mean       132.990685\n",
       "std         89.797612\n",
       "min          0.000000\n",
       "25%         65.000000\n",
       "50%        130.000000\n",
       "75%        200.000000\n",
       "max        453.000000\n",
       "Name: DistanceDiff, dtype: float64"
      ]
     },
     "metadata": {},
     "output_type": "display_data"
    },
    {
     "data": {
      "image/png": "[encoded data removed]",
      "text/plain": [
       "<Figure size 648x432 with 1 Axes>"
      ]
     },
     "metadata": {},
     "output_type": "display_data"
    }
   ],
   "source": [
    "# Copy dataframe\n",
    "df = df_raw.copy()\n",
    "\n",
    "# Group by greyhound and take the difference between max and min distances raced\n",
    "df = df.groupby('FasttrackDogId', as_index=False)['Distance'].apply(lambda x: max(x) - min(x))\n",
    "df = df.rename(columns={'Distance': 'DistanceDiff'})\n",
    "\n",
    "# Plot\n",
    "sns.set_theme()\n",
    "fig, ax = plt.subplots(figsize=(9, 6))\n",
    "plt.rc('xtick',labelsize=15)\n",
    "plt.rcParams[\"axes.labelsize\"] = 15\n",
    "plt.rc('ytick',labelsize=15)\n",
    "\n",
    "sns.kdeplot(data=df, x='DistanceDiff', cut=0)\n",
    "\n",
    "display(df.DistanceDiff.describe())"
   ]
  },
  {
   "cell_type": "markdown",
   "metadata": {},
   "source": [
    "### 7. Number of Greyhounds per Race"
   ]
  },
  {
   "cell_type": "markdown",
   "metadata": {},
   "source": [
    "The majority of the time, we should expect 8 greyhounds in any given race. With more than 75% of races containing at least 6 greyhounds competing. We should note (although obvious) the lower the number of greyhounds competing in a given race, the more likely any individual greyhound will win."
   ]
  },
  {
   "cell_type": "code",
   "execution_count": 10,
   "metadata": {},
   "outputs": [
    {
     "data": {
      "text/plain": [
       "count    109592.000000\n",
       "mean          7.144700\n",
       "std           1.076481\n",
       "min           2.000000\n",
       "25%           6.000000\n",
       "50%           8.000000\n",
       "75%           8.000000\n",
       "max           8.000000\n",
       "Name: NumberOfGreyhounds, dtype: float64"
      ]
     },
     "metadata": {},
     "output_type": "display_data"
    },
    {
     "data": {
      "image/png": "[encoded data removed]",
      "text/plain": [
       "<Figure size 648x432 with 1 Axes>"
      ]
     },
     "metadata": {},
     "output_type": "display_data"
    }
   ],
   "source": [
    "# Copy dataframe\n",
    "df = df_raw.copy()\n",
    "\n",
    "# Groupby race and count the number of greyhounds\n",
    "df = df.groupby('FasttrackRaceId', as_index=False)['FasttrackDogId'].nunique()\n",
    "df = df.rename(columns={'FasttrackDogId': 'NumberOfGreyhounds'})\n",
    "\n",
    "# Plot\n",
    "sns.set_theme()\n",
    "fig, ax = plt.subplots(figsize=(9, 6))\n",
    "plt.rc('xtick',labelsize=15)\n",
    "plt.rcParams[\"axes.labelsize\"] = 15\n",
    "plt.rc('ytick',labelsize=15)\n",
    "\n",
    "loc = plticker.MultipleLocator(base=1.0)\n",
    "ax.xaxis.set_major_locator(loc)\n",
    "ax = sns.histplot(data=df, x='NumberOfGreyhounds')\n",
    "\n",
    "display(df.NumberOfGreyhounds.describe())"
   ]
  },
  {
   "cell_type": "markdown",
   "metadata": {},
   "source": [
    "### 8. Race Grade Popularity by Track"
   ]
  },
  {
   "cell_type": "markdown",
   "metadata": {},
   "source": [
    "I want to have a look into the grade representation by track, in order to determine whether there is a bias between different tracks based on the performance levels of the general population racing there (e.g. one track may host mainly grade 4/5, and another may host mainly grade 1/2) resulting in a bias in SpeedNorm comparisons.\n",
    "\n",
    "Looking at Murray Bridge for example, 43.88% of its races are Grade 6 race grade (being its most popular race grade), whereas Ballarat has 14.63% of its races are Grade 5 race grade (being its most popular race grade). So there are definitely general performance biases based on the Track.  "
   ]
  },
  {
   "cell_type": "code",
   "execution_count": 40,
   "metadata": {},
   "outputs": [
    {
     "data": {
      "text/html": [
       "<div>\n",
       "<style scoped>\n",
       "    .dataframe tbody tr th:only-of-type {\n",
       "        vertical-align: middle;\n",
       "    }\n",
       "\n",
       "    .dataframe tbody tr th {\n",
       "        vertical-align: top;\n",
       "    }\n",
       "\n",
       "    .dataframe thead th {\n",
       "        text-align: right;\n",
       "    }\n",
       "</style>\n",
       "<table border=\"1\" class=\"dataframe\">\n",
       "  <thead>\n",
       "    <tr style=\"text-align: right;\">\n",
       "      <th></th>\n",
       "      <th>Track</th>\n",
       "      <th>RaceGrade</th>\n",
       "      <th>NumOfRaces</th>\n",
       "      <th>Total</th>\n",
       "      <th>Percentage (%)</th>\n",
       "    </tr>\n",
       "  </thead>\n",
       "  <tbody>\n",
       "    <tr>\n",
       "      <th>673</th>\n",
       "      <td>Murray Bridge</td>\n",
       "      <td>Grade 6</td>\n",
       "      <td>1291</td>\n",
       "      <td>2942</td>\n",
       "      <td>43.88</td>\n",
       "    </tr>\n",
       "    <tr>\n",
       "      <th>581</th>\n",
       "      <td>Launceston</td>\n",
       "      <td>Grade 5</td>\n",
       "      <td>637</td>\n",
       "      <td>1746</td>\n",
       "      <td>36.48</td>\n",
       "    </tr>\n",
       "    <tr>\n",
       "      <th>477</th>\n",
       "      <td>Hobart</td>\n",
       "      <td>Grade 5</td>\n",
       "      <td>635</td>\n",
       "      <td>1819</td>\n",
       "      <td>34.91</td>\n",
       "    </tr>\n",
       "    <tr>\n",
       "      <th>370</th>\n",
       "      <td>Gawler</td>\n",
       "      <td>Grade 6</td>\n",
       "      <td>1450</td>\n",
       "      <td>4215</td>\n",
       "      <td>34.40</td>\n",
       "    </tr>\n",
       "    <tr>\n",
       "      <th>331</th>\n",
       "      <td>Devonport</td>\n",
       "      <td>Grade 5</td>\n",
       "      <td>617</td>\n",
       "      <td>1801</td>\n",
       "      <td>34.26</td>\n",
       "    </tr>\n",
       "    <tr>\n",
       "      <th>51</th>\n",
       "      <td>Angle Park</td>\n",
       "      <td>Grade 6</td>\n",
       "      <td>1489</td>\n",
       "      <td>4897</td>\n",
       "      <td>30.41</td>\n",
       "    </tr>\n",
       "    <tr>\n",
       "      <th>780</th>\n",
       "      <td>Sandown Park</td>\n",
       "      <td>Grade 5</td>\n",
       "      <td>1172</td>\n",
       "      <td>3960</td>\n",
       "      <td>29.60</td>\n",
       "    </tr>\n",
       "    <tr>\n",
       "      <th>308</th>\n",
       "      <td>Darwin</td>\n",
       "      <td>Grade 5</td>\n",
       "      <td>600</td>\n",
       "      <td>2096</td>\n",
       "      <td>28.63</td>\n",
       "    </tr>\n",
       "    <tr>\n",
       "      <th>906</th>\n",
       "      <td>Townsville</td>\n",
       "      <td>Grade 5</td>\n",
       "      <td>756</td>\n",
       "      <td>2761</td>\n",
       "      <td>27.38</td>\n",
       "    </tr>\n",
       "    <tr>\n",
       "      <th>869</th>\n",
       "      <td>The Meadows</td>\n",
       "      <td>Grade 5</td>\n",
       "      <td>1091</td>\n",
       "      <td>4257</td>\n",
       "      <td>25.63</td>\n",
       "    </tr>\n",
       "    <tr>\n",
       "      <th>1002</th>\n",
       "      <td>Warrnambool</td>\n",
       "      <td>Grade 5</td>\n",
       "      <td>724</td>\n",
       "      <td>2987</td>\n",
       "      <td>24.24</td>\n",
       "    </tr>\n",
       "    <tr>\n",
       "      <th>166</th>\n",
       "      <td>Bundaberg</td>\n",
       "      <td>Grade 5</td>\n",
       "      <td>374</td>\n",
       "      <td>1561</td>\n",
       "      <td>23.96</td>\n",
       "    </tr>\n",
       "    <tr>\n",
       "      <th>724</th>\n",
       "      <td>Rockhampton</td>\n",
       "      <td>Grade 5</td>\n",
       "      <td>386</td>\n",
       "      <td>1638</td>\n",
       "      <td>23.57</td>\n",
       "    </tr>\n",
       "    <tr>\n",
       "      <th>403</th>\n",
       "      <td>Geelong</td>\n",
       "      <td>Grade 5</td>\n",
       "      <td>996</td>\n",
       "      <td>4407</td>\n",
       "      <td>22.60</td>\n",
       "    </tr>\n",
       "    <tr>\n",
       "      <th>642</th>\n",
       "      <td>Mount Gambier</td>\n",
       "      <td>Grade 6</td>\n",
       "      <td>692</td>\n",
       "      <td>3314</td>\n",
       "      <td>20.88</td>\n",
       "    </tr>\n",
       "    <tr>\n",
       "      <th>439</th>\n",
       "      <td>Healesville</td>\n",
       "      <td>Grade 5</td>\n",
       "      <td>1097</td>\n",
       "      <td>5317</td>\n",
       "      <td>20.63</td>\n",
       "    </tr>\n",
       "    <tr>\n",
       "      <th>127</th>\n",
       "      <td>Bendigo</td>\n",
       "      <td>Grade 5</td>\n",
       "      <td>959</td>\n",
       "      <td>4700</td>\n",
       "      <td>20.40</td>\n",
       "    </tr>\n",
       "    <tr>\n",
       "      <th>508</th>\n",
       "      <td>Horsham</td>\n",
       "      <td>Grade 5</td>\n",
       "      <td>498</td>\n",
       "      <td>2469</td>\n",
       "      <td>20.17</td>\n",
       "    </tr>\n",
       "    <tr>\n",
       "      <th>629</th>\n",
       "      <td>Mandurah</td>\n",
       "      <td>Novice Grade 5</td>\n",
       "      <td>1342</td>\n",
       "      <td>6891</td>\n",
       "      <td>19.47</td>\n",
       "    </tr>\n",
       "    <tr>\n",
       "      <th>225</th>\n",
       "      <td>Cannington</td>\n",
       "      <td>Novice Grade 5</td>\n",
       "      <td>1269</td>\n",
       "      <td>6549</td>\n",
       "      <td>19.38</td>\n",
       "    </tr>\n",
       "    <tr>\n",
       "      <th>241</th>\n",
       "      <td>Capalaba</td>\n",
       "      <td>Grade 5</td>\n",
       "      <td>440</td>\n",
       "      <td>2306</td>\n",
       "      <td>19.08</td>\n",
       "    </tr>\n",
       "    <tr>\n",
       "      <th>967</th>\n",
       "      <td>Warragul</td>\n",
       "      <td>Grade 5</td>\n",
       "      <td>1003</td>\n",
       "      <td>5472</td>\n",
       "      <td>18.33</td>\n",
       "    </tr>\n",
       "    <tr>\n",
       "      <th>816</th>\n",
       "      <td>Shepparton</td>\n",
       "      <td>Grade 5</td>\n",
       "      <td>856</td>\n",
       "      <td>4755</td>\n",
       "      <td>18.00</td>\n",
       "    </tr>\n",
       "    <tr>\n",
       "      <th>270</th>\n",
       "      <td>Cranbourne</td>\n",
       "      <td>Grade 5</td>\n",
       "      <td>696</td>\n",
       "      <td>3877</td>\n",
       "      <td>17.95</td>\n",
       "    </tr>\n",
       "    <tr>\n",
       "      <th>542</th>\n",
       "      <td>Ipswich</td>\n",
       "      <td>Grade 5</td>\n",
       "      <td>948</td>\n",
       "      <td>5478</td>\n",
       "      <td>17.31</td>\n",
       "    </tr>\n",
       "    <tr>\n",
       "      <th>6</th>\n",
       "      <td>Albion Park</td>\n",
       "      <td>Grade 5</td>\n",
       "      <td>1361</td>\n",
       "      <td>7900</td>\n",
       "      <td>17.23</td>\n",
       "    </tr>\n",
       "    <tr>\n",
       "      <th>746</th>\n",
       "      <td>Sale</td>\n",
       "      <td>Grade 5</td>\n",
       "      <td>556</td>\n",
       "      <td>3305</td>\n",
       "      <td>16.82</td>\n",
       "    </tr>\n",
       "    <tr>\n",
       "      <th>90</th>\n",
       "      <td>Ballarat</td>\n",
       "      <td>Grade 5</td>\n",
       "      <td>725</td>\n",
       "      <td>4956</td>\n",
       "      <td>14.63</td>\n",
       "    </tr>\n",
       "  </tbody>\n",
       "</table>\n",
       "</div>"
      ],
      "text/plain": [
       "              Track       RaceGrade  NumOfRaces  Total  Percentage (%)\n",
       "673   Murray Bridge         Grade 6        1291   2942           43.88\n",
       "581      Launceston         Grade 5         637   1746           36.48\n",
       "477          Hobart         Grade 5         635   1819           34.91\n",
       "370          Gawler         Grade 6        1450   4215           34.40\n",
       "331       Devonport         Grade 5         617   1801           34.26\n",
       "51       Angle Park         Grade 6        1489   4897           30.41\n",
       "780    Sandown Park         Grade 5        1172   3960           29.60\n",
       "308          Darwin         Grade 5         600   2096           28.63\n",
       "906      Townsville         Grade 5         756   2761           27.38\n",
       "869     The Meadows         Grade 5        1091   4257           25.63\n",
       "1002    Warrnambool         Grade 5         724   2987           24.24\n",
       "166       Bundaberg         Grade 5         374   1561           23.96\n",
       "724     Rockhampton         Grade 5         386   1638           23.57\n",
       "403         Geelong         Grade 5         996   4407           22.60\n",
       "642   Mount Gambier         Grade 6         692   3314           20.88\n",
       "439     Healesville         Grade 5        1097   5317           20.63\n",
       "127         Bendigo         Grade 5         959   4700           20.40\n",
       "508         Horsham         Grade 5         498   2469           20.17\n",
       "629        Mandurah  Novice Grade 5        1342   6891           19.47\n",
       "225      Cannington  Novice Grade 5        1269   6549           19.38\n",
       "241        Capalaba         Grade 5         440   2306           19.08\n",
       "967        Warragul         Grade 5        1003   5472           18.33\n",
       "816      Shepparton         Grade 5         856   4755           18.00\n",
       "270      Cranbourne         Grade 5         696   3877           17.95\n",
       "542         Ipswich         Grade 5         948   5478           17.31\n",
       "6       Albion Park         Grade 5        1361   7900           17.23\n",
       "746            Sale         Grade 5         556   3305           16.82\n",
       "90         Ballarat         Grade 5         725   4956           14.63"
      ]
     },
     "metadata": {},
     "output_type": "display_data"
    }
   ],
   "source": [
    "# Copy dataframe\n",
    "df = df_raw.copy()\n",
    "\n",
    "# Let's count the percentages of each Race Grade by Track\n",
    "df = df.groupby(['Track', 'RaceGrade'], as_index=False).agg(NumOfRaces = ('FasttrackRaceId', 'nunique'))\n",
    "df['Total'] = df.groupby('Track')['NumOfRaces'].transform(lambda x: sum(x))\n",
    "df['Percentage (%)'] = df.groupby('Track')['NumOfRaces'].transform(lambda x: round(100*x/sum(x), 2))\n",
    "df = df.sort_values(by=['Track', 'Percentage (%)'], ascending=False)\n",
    "\n",
    "# Take only tracks with a large enough total\n",
    "df = df[df['Total'] >= 1000]\n",
    "\n",
    "# Take most popular at each track\n",
    "df = df.groupby('Track').head(1).sort_values(by='Percentage (%)', ascending=False)\n",
    "\n",
    "display(df)"
   ]
  },
  {
   "cell_type": "code",
   "execution_count": null,
   "metadata": {},
   "outputs": [],
   "source": []
  }
 ],
 "metadata": {
  "kernelspec": {
   "display_name": "Python 3",
   "language": "python",
   "name": "python3"
  },
  "language_info": {
   "codemirror_mode": {
    "name": "ipython",
    "version": 3
   },
   "file_extension": ".py",
   "mimetype": "text/x-python",
   "name": "python",
   "nbconvert_exporter": "python",
   "pygments_lexer": "ipython3",
   "version": "3.8.5"
  }
 },
 "nbformat": 4,
 "nbformat_minor": 4
}
